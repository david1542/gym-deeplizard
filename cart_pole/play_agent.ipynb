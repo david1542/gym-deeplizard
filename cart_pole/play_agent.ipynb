{
 "metadata": {
  "language_info": {
   "codemirror_mode": {
    "name": "ipython",
    "version": 3
   },
   "file_extension": ".py",
   "mimetype": "text/x-python",
   "name": "python",
   "nbconvert_exporter": "python",
   "pygments_lexer": "ipython3",
   "version": "3.7.9-final"
  },
  "orig_nbformat": 2,
  "kernelspec": {
   "name": "python3",
   "display_name": "Python 3.7.9 64-bit ('gym': conda)",
   "metadata": {
    "interpreter": {
     "hash": "129f2f7391b777d52a08fa9ff141bedb973b18bd5660445398f73676c694c50c"
    }
   }
  }
 },
 "nbformat": 4,
 "nbformat_minor": 2,
 "cells": [
  {
   "cell_type": "code",
   "execution_count": 1,
   "metadata": {},
   "outputs": [],
   "source": [
    "import torch\n",
    "import time\n",
    "\n",
    "from entities.network import DQN\n",
    "from entities.environment import EnvironmentManager\n",
    "from entities.strategy import EpsilonGreedyStrategy\n",
    "from entities.agent import Agent, MODES\n",
    "from entities.utils import create_torch_device\n",
    "\n",
    "from entities.constants import POLICY_NET_FILE"
   ]
  },
  {
   "cell_type": "code",
   "execution_count": 2,
   "metadata": {},
   "outputs": [],
   "source": [
    "device = create_torch_device()\n",
    "env_manager = EnvironmentManager(device)\n",
    "agent = Agent(None, env_manager.num_actions_available(), device, MODES['INFER'])\n",
    "\n",
    "policy_net = DQN(env_manager.get_screen_width(), env_manager.get_screen_height()).to(device)\n",
    "\n",
    "# Load the learned policy\n",
    "policy_net.load_state_dict(torch.load(POLICY_NET_FILE));"
   ]
  },
  {
   "cell_type": "code",
   "execution_count": 3,
   "metadata": {},
   "outputs": [],
   "source": [
    "num_episodes = 100\n",
    "\n",
    "for i_episode in range(num_episodes):\n",
    "    env_manager.reset()\n",
    "    state = env_manager.get_state()\n",
    "\n",
    "    while True:\n",
    "        time.sleep(0.02)\n",
    "        action = agent.select_action(state, policy_net)\n",
    "        reward = env_manager.take_action(action)\n",
    "        state = env_manager.get_state()\n",
    "\n",
    "        if env_manager.done:\n",
    "            break"
   ]
  }
 ]
}